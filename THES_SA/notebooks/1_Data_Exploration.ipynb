{
 "cells": [
  {
   "cell_type": "markdown",
   "id": "329a01c8",
   "metadata": {},
   "source": [
    "# Data Exploration for Energy Equity Market Sentiment Analysis\n",
    "\n",
    "This notebook explores the data collected for energy sector companies including stock prices, news sentiment, and social media data."
   ]
  },
  {
   "cell_type": "code",
   "execution_count": null,
   "id": "318b7841",
   "metadata": {},
   "outputs": [],
   "source": [
    "import pandas as pd\n",
    "import numpy as np\n",
    "import matplotlib.pyplot as plt\n",
    "import seaborn as sns\n",
    "import json\n",
    "from pathlib import Path\n",
    "import sys\n",
    "\n",
    "# Add project root to path\n",
    "sys.path.append('..')\n",
    "from src.config import RAW, PRO, NEWS, TWEETS, TICKERS\n",
    "\n",
    "# Set plotting style\n",
    "sns.set_style('whitegrid')\n",
    "plt.rcParams['figure.figsize'] = (12, 6)\n",
    "plt.rcParams['font.size'] = 12"
   ]
  },
  {
   "cell_type": "markdown",
   "id": "e6f2a727",
   "metadata": {},
   "source": [
    "## Load Stock Price Data"
   ]
  },
  {
   "cell_type": "code",
   "execution_count": null,
   "id": "2cb476b6",
   "metadata": {},
   "outputs": [],
   "source": [
    "# Load stock data for each ticker\n",
    "stock_data = {}\n",
    "for ticker in TICKERS:\n",
    "    clean_ticker = ticker.replace('.', '_')\n",
    "    filepath = RAW / f\"{clean_ticker}_stock_data.csv\"\n",
    "    \n",
    "    if filepath.exists():\n",
    "        df = pd.read_csv(filepath, index_col=0, parse_dates=True)\n",
    "        stock_data[ticker] = df\n",
    "        print(f\"Loaded data for {ticker}: {df.shape[0]} rows from {df.index.min()} to {df.index.max()}\")\n",
    "    else:\n",
    "        print(f\"No data found for {ticker}\")"
   ]
  },
  {
   "cell_type": "markdown",
   "id": "3ebbe6c9",
   "metadata": {},
   "source": [
    "## Exploratory Data Analysis"
   ]
  },
  {
   "cell_type": "code",
   "execution_count": null,
   "id": "ea95366f",
   "metadata": {},
   "outputs": [],
   "source": [
    "# Select a ticker for analysis\n",
    "ticker = \"XOM\"\n",
    "\n",
    "if ticker in stock_data:\n",
    "    df = stock_data[ticker]\n",
    "    \n",
    "    # Display basic info\n",
    "    print(f\"=== {ticker} Stock Data ===\\n\")\n",
    "    print(f\"Date range: {df.index.min()} to {df.index.max()}\")\n",
    "    print(f\"Trading days: {df.shape[0]}\")\n",
    "    print(\"\\nFirst few rows:\")\n",
    "    display(df.head())\n",
    "    \n",
    "    print(\"\\nSummary statistics:\")\n",
    "    display(df.describe())\n",
    "else:\n",
    "    print(f\"No data available for {ticker}\")"
   ]
  },
  {
   "cell_type": "markdown",
   "id": "0b03787b",
   "metadata": {},
   "source": [
    "## Plot Stock Price History"
   ]
  },
  {
   "cell_type": "code",
   "execution_count": null,
   "id": "f468e29b",
   "metadata": {},
   "outputs": [],
   "source": [
    "if ticker in stock_data:\n",
    "    df = stock_data[ticker]\n",
    "    \n",
    "    fig, ax = plt.subplots(figsize=(14, 7))\n",
    "    \n",
    "    # Plot closing price\n",
    "    ax.plot(df.index, df['Close'], label='Close Price')\n",
    "    \n",
    "    # Add title and labels\n",
    "    ax.set_title(f'{ticker} Stock Price History', fontsize=16)\n",
    "    ax.set_xlabel('Date', fontsize=12)\n",
    "    ax.set_ylabel('Price', fontsize=12)\n",
    "    ax.legend()\n",
    "    \n",
    "    plt.tight_layout()\n",
    "    plt.show()\n",
    "    \n",
    "    # Plot daily returns\n",
    "    if 'return' in df.columns:\n",
    "        fig, ax = plt.subplots(figsize=(14, 7))\n",
    "        \n",
    "        ax.plot(df.index, df['return'] * 100)  # Convert to percentage\n",
    "        ax.axhline(y=0, color='r', linestyle='-', alpha=0.3)\n",
    "        \n",
    "        ax.set_title(f'{ticker} Daily Returns', fontsize=16)\n",
    "        ax.set_xlabel('Date', fontsize=12)\n",
    "        ax.set_ylabel('Return (%)', fontsize=12)\n",
    "        \n",
    "        plt.tight_layout()\n",
    "        plt.show()"
   ]
  },
  {
   "cell_type": "markdown",
   "id": "16350990",
   "metadata": {},
   "source": [
    "## Load News Data"
   ]
  },
  {
   "cell_type": "code",
   "execution_count": null,
   "id": "160149c2",
   "metadata": {},
   "outputs": [],
   "source": [
    "# Load news data\n",
    "def load_news_data(ticker):\n",
    "    clean_ticker = ticker.replace('.', '_')\n",
    "    news_files = list(NEWS.glob(f\"{clean_ticker}_news_*.json\"))\n",
    "    \n",
    "    if not news_files:\n",
    "        print(f\"No news data found for {ticker}\")\n",
    "        return None\n",
    "    \n",
    "    # Get the most recent file\n",
    "    latest_file = max(news_files, key=lambda x: x.stat().st_mtime)\n",
    "    print(f\"Loading news from {latest_file}\")\n",
    "    \n",
    "    with open(latest_file, 'r') as f:\n",
    "        news_data = json.load(f)\n",
    "    \n",
    "    if 'articles' not in news_data:\n",
    "        print(f\"No articles found in news data for {ticker}\")\n",
    "        return None\n",
    "    \n",
    "    articles = news_data['articles']\n",
    "    print(f\"Found {len(articles)} news articles for {ticker}\")\n",
    "    \n",
    "    # Convert to DataFrame\n",
    "    df = pd.DataFrame(articles)\n",
    "    \n",
    "    # Convert dates\n",
    "    if 'publishedAt' in df.columns:\n",
    "        df['publishedAt'] = pd.to_datetime(df['publishedAt'])\n",
    "    \n",
    "    return df\n",
    "\n",
    "news_df = load_news_data(ticker)\n",
    "\n",
    "if news_df is not None:\n",
    "    print(\"\\nNews data columns:\")\n",
    "    print(news_df.columns.tolist())\n",
    "    \n",
    "    print(\"\\nFirst few news articles:\")\n",
    "    display(news_df[['publishedAt', 'title', 'source']].head())"
   ]
  },
  {
   "cell_type": "markdown",
   "id": "006652ff",
   "metadata": {},
   "source": [
    "## Analyze News Sources"
   ]
  },
  {
   "cell_type": "code",
   "execution_count": null,
   "id": "4a605d4d",
   "metadata": {},
   "outputs": [],
   "source": [
    "if news_df is not None and 'source' in news_df.columns:\n",
    "    # Extract source names\n",
    "    source_names = news_df['source'].apply(lambda x: x.get('name') if isinstance(x, dict) else x)\n",
    "    \n",
    "    # Count sources\n",
    "    source_counts = source_names.value_counts()\n",
    "    \n",
    "    # Plot top sources\n",
    "    plt.figure(figsize=(12, 8))\n",
    "    source_counts[:15].plot(kind='barh')\n",
    "    plt.title(f'Top News Sources for {ticker}')\n",
    "    plt.xlabel('Number of Articles')\n",
    "    plt.tight_layout()\n",
    "    plt.show()"
   ]
  },
  {
   "cell_type": "markdown",
   "id": "4b87df0d",
   "metadata": {},
   "source": [
    "## Analyze News Publication Times"
   ]
  },
  {
   "cell_type": "code",
   "execution_count": null,
   "id": "9eaf4762",
   "metadata": {},
   "outputs": [],
   "source": [
    "if news_df is not None and 'publishedAt' in news_df.columns:\n",
    "    # Extract hour of day\n",
    "    news_df['hour'] = news_df['publishedAt'].dt.hour\n",
    "    \n",
    "    # Plot distribution of publication times\n",
    "    plt.figure(figsize=(12, 6))\n",
    "    news_df['hour'].value_counts().sort_index().plot(kind='bar')\n",
    "    plt.title(f'Distribution of News Publication Hours for {ticker}')\n",
    "    plt.xlabel('Hour of Day (UTC)')\n",
    "    plt.ylabel('Number of Articles')\n",
    "    plt.xticks(range(0, 24))\n",
    "    plt.tight_layout()\n",
    "    plt.show()"
   ]
  },
  {
   "cell_type": "markdown",
   "id": "a0947d85",
   "metadata": {},
   "source": [
    "## Next Steps\n",
    "\n",
    "In the following notebooks, we'll:\n",
    "\n",
    "1. Preprocess the data and extract sentiment from news articles\n",
    "2. Build and train machine learning models to predict stock movements\n",
    "3. Evaluate model performance and explore feature importance\n",
    "4. Visualize the relationships between sentiment and stock price movements"
   ]
  }
 ],
 "metadata": {
  "language_info": {
   "name": "python"
  }
 },
 "nbformat": 4,
 "nbformat_minor": 5
}
